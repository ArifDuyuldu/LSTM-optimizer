{
 "cells": [
  {
   "cell_type": "markdown",
   "metadata": {},
   "source": [
    "# LSTM optimizer 少量資料影像分類\n",
    "\n",
    "在Optimization based meta learning 中，有一派做法是使用神經網路模型，訓練一個像是SGD,Adam 那樣的model optimizer。\n",
    "\n",
    "在一個任務中，梯度下降是在每筆資料輸入、計算梯度後將model$\\Phi$從$\\Phi_0$往gradient的反方向$g_1$更新成$\\Phi_1$。\n",
    "\n",
    "這個過程在使用SGD來做就是$\\theta_t=\\theta_{t-1}+\\lambda*gradient(\\Phi_{t-1},data_t)$\n",
    "\n",
    "可以把它濃縮成一個function: $\\Phi_t=f(\\Phi_{t-1},data_t)$\n",
    "\n",
    "現在來看看RNN的使用公式: $h_t=activation(w^T [h_{t-1},data_t]+bias)$\n",
    "\n",
    "也是可以把它濃縮成一個function: $h_t=f'(h_{t-1},data_t)$是不是跟前面什麼東西很像呢?\n",
    "\n",
    "因此可以使用RNN這個模型類型來學習如何做model optimization，來優化訓練這件事，使得使用較少的資料就能達到訓練效果。\n",
    "GOOGLE TRANSLATE SONUCU: \n",
    "LSTM optimizer small amount of data image classification\n",
    "\n",
    "In Optimization based meta learning, one school of practice is to use a neural network model to train a model optimizer like SGD and Adam.\n",
    "\n",
    "In a task, the gradient descent is to model Φ after each data input and calculation of the gradient\n",
    "from Φ0\n",
    "To the opposite direction of the gradient 𝑔1\n",
    "Update to Φ1\n",
    ".\n",
    "\n",
    "This process is done using SGD is 𝜃𝑡=𝜃𝑡−1+𝜆∗𝑔𝑟𝑎𝑑𝑖𝑒𝑛𝑡(Φ𝑡−1,𝑑𝑎𝑡𝑎𝑡)\n",
    "It can be condensed into a function: Φ𝑡=𝑓(Φ𝑡−1,𝑑𝑎𝑡𝑎𝑡)\n",
    "Now let’s look at the usage formula of RNN: ℎ𝑡=𝑎𝑐𝑡𝑖𝑣𝑎𝑡𝑖𝑜𝑛(𝑤𝑇[ℎ𝑡−1,𝑑𝑎𝑡𝑎𝑡]+𝑏𝑖𝑎𝑠)\n",
    "It can also be condensed into a function: ℎ𝑡=𝑓′(ℎ𝑡−1,𝑑𝑎𝑡𝑎𝑡)\n",
    "Is it similar to what was before?\n",
    "\n",
    "Therefore, you can use the RNN model type to learn how to do model optimization to optimize the training, so that the training effect can be achieved with less data."
   ]
  },
  {
   "cell_type": "markdown",
   "metadata": {},
   "source": [
    "這次要訓練一個LSTM optimizer應用在學習MNIST影像分類上，其中包含以下部分：\n",
    "* Data Loader\n",
    "* 建立模型(CNN and LSTM)\n",
    "* 訓練及驗證\n",
    "* 細節說明\n",
    "GOOGLE TRANSLATE SONUCU: \n",
    "This time, we will train an LSTM optimizer for learning MNIST image classification, which includes the following parts:\n",
    "* Data Loader\n",
    "* Model building (CNN and LSTM)\n",
    "* Training and Validation\n",
    "* Details\n"
   ]
  },
  {
   "cell_type": "markdown",
   "metadata": {},
   "source": [
    "# Data Loader"
   ]
  },
  {
   "cell_type": "code",
   "execution_count": 1,
   "metadata": {},
   "outputs": [],
   "source": [
    "# using tf 2.0\n",
    "import matplotlib.pyplot as plt\n",
    "import numpy as np\n",
    "import os\n",
    "import cv2\n",
    "import tensorflow as tf\n",
    "from tensorflow import keras\n",
    "from tensorflow.keras import utils\n",
    "import tqdm \n",
    "import itertools\n",
    "from sklearn.model_selection import train_test_split\n",
    "# Import hand craft scripts\n",
    "import def_model\n",
    "import data_gen\n",
    "\n",
    "gpus = tf.config.experimental.list_physical_devices(device_type='GPU')\n",
    "for gpu in gpus:\n",
    "    tf.config.experimental.set_memory_growth( device=gpu, enable=True)"
   ]
  },
  {
   "cell_type": "markdown",
   "metadata": {},
   "source": [
    "首先讀取存好的MNIST資料分成訓練集、驗證集、測試集\n",
    "GOOGLE TRANSLATE SONUCU: \n",
    "First read the saved MNIST data and divide it into training set, verification set and test set\n",
    "\n",
    "Bu kod satırı, MNIST veri kümesini yüklemek ve train-test-validation setleri oluşturmak için kullanılmaktadır.\n",
    "\n",
    "İlk olarak, keras.datasets.mnist.load_data() fonksiyonu kullanılarak MNIST veri kümesi yüklenmektedir. Bu veri kümesi, el yazısı rakamların 28x28 boyutlu görüntülerinden oluşmaktadır. x_train, y_train, x_test ve y_test değişkenleri, sırasıyla eğitim ve test verilerinin görüntüleri ve etiketlerini içermektedir.\n",
    "\n",
    "Daha sonra, train-test-validation setleri oluşturmak için train_test_split() fonksiyonu kullanılmaktadır. Bu fonksiyon, x_train ve y_train verilerinin bir kısmını (belirtilen test_size parametresi oranında) validation seti olarak ayırır ve geri kalanını eğitim seti olarak kullanır.\n",
    "\n",
    "Bu kod satırı, MNIST veri kümesinin yüklenmesini ve eğitim, test ve validation setleri oluşturulmasını sağlamaktadır. x_train, y_train, x_test, y_test, x_val ve y_val değişkenleri, sırasıyla eğitim, test ve validation setlerinin görüntüleri ve etiketlerini içermektedir."
   ]
  },
  {
   "cell_type": "code",
   "execution_count": 18,
   "metadata": {},
   "outputs": [],
   "source": [
    "DATA_DIR=\"./\"\n",
    "(x_train, y_train), (x_test, y_test) = keras.datasets.mnist.load_data(path=DATA_DIR+\"/MNIST/mnist.npz\")\n",
    "# data=np.load(DATA_DIR+\"/MNIST/mnist.npz\")\n",
    "# x_train,y_train,x_test,y_test=[data[cont] for cont in ['x_train',\"y_train\",\"x_test\",\"y_test\"]]\n",
    "x_train,x_val,y_train,y_val=train_test_split(x_train, y_train, test_size=len(y_train)//10*2)"
   ]
  },
  {
   "cell_type": "markdown",
   "metadata": {},
   "source": [
    "使用Data Generator來Load資料進Model\n",
    "GOOGLE TRANSLATE SONUCU: \n",
    "Use Data Generator to Load data into Model\n",
    "\n",
    "data_gen kendi tanımladığı bir python file ! \n",
    "\n",
    "ChatGpt 1:\n",
    "Bu kod satırları, bir veri üreteci nesnesi oluşturarak eğitim ve doğrulama verilerinin belirli bir şekilde bölündüğü ve önceden belirlenmiş bir yolla yüklenip hazırlandığı bir veri seti önişleme işlemini anlatmaktadır.\n",
    "\n",
    "İlk olarak, way değişkeni 10 olarak belirlenmiş ve bu, bir eğitim adımında eğitim yapılacak olan sınıf sayısını ifade etmektedir.\n",
    "\n",
    "MAX_EPOCHS değişkeni, maksimum eğitim dönemi sayısını belirtir ve burada 40 olarak ayarlanmıştır.\n",
    "\n",
    "BATCH_SIZE değişkeni ise, bir defada işlenecek örnek sayısını belirtir ve burada 128 olarak ayarlanmıştır.\n",
    "\n",
    "Daha sonra, data_gen.DataGenerator() fonksiyonu kullanılarak eğitim ve doğrulama için veri üreteci nesneleri oluşturulmaktadır. Bu veri üreteci nesneleri, eğitim ve doğrulama verilerini ve hedeflerini (etiketlerini) belirtilen way sayısına göre gruplandırır ve her bir batch'te belirtilen BATCH_SIZE sayısına kadar örneği içeren bir grup veri döndürür.\n",
    "\n",
    "gen_train ve gen_val değişkenleri, sırasıyla eğitim ve doğrulama verileri için veri üreteci nesnelerini içermektedir. Bu değişkenlerin uzunluğu, her bir veri üretecindeki batch sayısını ifade etmektedir.\n",
    "\n",
    "Özetle, bu kod satırları, veri kümesinin belirli bir şekilde bölünmesini ve her bir batch'te belirli sayıda örneğin eğitim ve doğrulama için hazır hale getirilmesini sağlamaktadır.\n",
    "\n",
    "ChatGpt 2:\n",
    "Bu kodlar, veri setini hazırlamak için kullanılır. İlk önce way değişkeni 10 olarak tanımlanır, bu da veri setindeki sınıf sayısını belirtir. MAX_EPOCHS 40 olarak tanımlanır, bu da eğitimin kaç epoch süreceğini belirler. BATCH_SIZE 128 olarak tanımlanır, bu da bir adımda eğitilecek örnek sayısını belirler.\n",
    "\n",
    "Sonrasında, MNIST veri seti yüklenir ve eğitim, doğrulama ve test verilerine ayrılır. Eğitim verilerinin %80'i eğitim için kullanılırken, geri kalan %20'si doğrulama için kullanılacaktır.\n",
    "\n",
    "Son olarak, data_gen modülündeki DataGenerator sınıfından nesneler oluşturulur. gen_train nesnesi, eğitim verilerini içeren x_train ve y_train dizileri ile, BATCH_SIZE ve shuffle=True parametreleri ile oluşturulur. gen_val nesnesi de benzer şekilde oluşturulur, ancak shuffle parametresi False olarak belirtilir ve veriler doğrulama verileridir. len(gen_train) ve len(gen_val) kodları, eğitim ve doğrulama verilerindeki toplam örnek sayısını hesaplar."
   ]
  },
  {
   "cell_type": "code",
   "execution_count": 3,
   "metadata": {},
   "outputs": [
    {
     "data": {
      "text/plain": [
       "(375, 93)"
      ]
     },
     "execution_count": 3,
     "metadata": {},
     "output_type": "execute_result"
    }
   ],
   "source": [
    "way =10\n",
    "MAX_EPOCHS = 40\n",
    "BATCH_SIZE=128\n",
    "gen_train=data_gen.DataGenerator(x_train,y_train,way,batch_size=BATCH_SIZE,shuffle=True)\n",
    "gen_val=data_gen.DataGenerator(x_val,y_val,way,batch_size=BATCH_SIZE,shuffle=False)\n",
    "len(gen_train), len(gen_val)"
   ]
  },
  {
   "cell_type": "markdown",
   "metadata": {},
   "source": [
    "看一下，資料內容如下：\n",
    "\n",
    "資料內容包含圖片和數字，數字做過one-hot encoding\n",
    "\n",
    "GOOGLE TRANSLATE SONUCU: \n",
    "Take a look, the information is as follows:\n",
    "\n",
    "The data content includes pictures and numbers, and the numbers have been one-hot encoded\n",
    "\n",
    "ChatGPT:\n",
    "\n",
    "Bu kod satırları, eğitim veri üreteci nesnesinden bir batch veri örneği alarak, örneklerin bazılarını ekranda görselleştirmek için kullanılmaktadır.\n",
    "\n",
    "İlk olarak, gen_train veri üreteci nesnesinden bir batch veri örneği batch_data ve batch_label değişkenlerine atanmaktadır.\n",
    "\n",
    "Daha sonra, gp, ee, n_row ve n_col değişkenleri, görselleştirme işleminin düzenini belirlemek için kullanılmaktadır. gp değişkeni, gösterilecek olan batch'ın sayısını belirtmektedir. ee değişkeni, ekranda gösterilecek olan örneklerin sayısını belirtmektedir. n_row ve n_col değişkenleri ise, ekranda kaç satır ve kaç sütun olacağını belirlemektedir.\n",
    "\n",
    "Daha sonra, plt.figure() fonksiyonu kullanılarak, ekranda gösterilecek olan örneklerin düzeni belirlenmektedir. n_col ve n_row değişkenleri, kaç satır ve sütunda gösterileceğini belirlemekte, figsize parametresi ise, ekranda gösterilen her örneğin boyutunu belirlemektedir.\n",
    "\n",
    "Daha sonra, iki for döngüsü kullanılarak, örneklerin ekranda nasıl gösterileceği belirlenmektedir. Her bir örnek için bir subplot çizilir ve batch_label değişkeni ile örneğin hangi sınıfa ait olduğu ekranda gösterilir. imshow() fonksiyonu kullanılarak, örneğin görüntüsü ekranda gösterilir.\n",
    "\n",
    "Son olarak, plt.show() fonksiyonu kullanılarak, ekranda belirtilen örneklerin gösterilmesi sağlanır.\n",
    "\n",
    "Özetle, bu kod satırları, eğitim veri üreteci nesnesinden alınan bir batch veri örneği içinden belirli sayıda örnekleri ekranda görselleştirmek için kullanılmaktadır."
   ]
  },
  {
   "cell_type": "code",
   "execution_count": 4,
   "metadata": {},
   "outputs": [
    {
     "data": {
      "image/png": "[encoded data removed]",
      "text/plain": [
       "<Figure size 1350x340 with 6 Axes>"
      ]
     },
     "metadata": {},
     "output_type": "display_data"
    }
   ],
   "source": [
    "for batch_data,batch_label in gen_train:\n",
    "    break\n",
    "gp,ee,n_row,n_col=1,1,2,3\n",
    "plt.figure(figsize=(n_col*4.5,n_row*1.7))\n",
    "for ii in range(n_row):\n",
    "    for jj in range(n_col):\n",
    "        plt.subplot(n_row,n_col,ee);plt.axis('off');plt.title(f\"batch{gp}:{batch_label[ee]}\")\n",
    "        plt.imshow(batch_data[ee,...,0],\"gray\")\n",
    "        ee+=1\n",
    "plt.show()"
   ]
  },
  {
   "cell_type": "markdown",
   "metadata": {},
   "source": [
    "# 建立模型(CNN and LSTM)\n",
    "目前我們要訓練的對象是一個CNN模型，使用的optimizer是一個LSTM。\n",
    "\n",
    "整個Method如下：\n",
    "1. 資料$data_t$進入CNN，以現在的CNN參數$\\theta_{t-1}$計算答案、對照答案、計算梯度\n",
    "2. 將梯度傳給RNN做input，與Hidden值$h_0$做concatenate，計算下一個hidden值$h_1$，並輸出給CNN的更新值\n",
    "3. CNN apply RNN output做更新，參數變成$\\theta_t$\n",
    "4. 繼續做下一筆資料，重複1.~3.值到做完一個batch後對RNN做梯度更新\n",
    "5. 一路訓練，直到CNN對data的loss不再下降\n",
    "\n",
    "\n",
    "GOOGLE TRANSLATE SONUCU: \n",
    "# Build the model (CNN and LSTM)\n",
    "At present, the object we want to train is a CNN model, and the optimizer used is an LSTM.\n",
    "\n",
    "The whole Method is as follows:\n",
    "1. The data $data_t$ enters CNN, calculates the answer, compares the answer, and calculates the gradient with the current CNN parameter $\\theta_{t-1}$\n",
    "2. Pass the gradient to RNN as input, concatenate with Hidden value $h_0$, calculate the next hidden value $h_1$, and output the updated value to CNN\n",
    "3. CNN apply RNN output is updated, and the parameters become $\\theta_t$\n",
    "4. Continue to make the next piece of data, repeat 1.~3. The value is updated to the RNN after a batch is completed\n",
    "5. Train all the way until the loss of CNN to data no longer decreases"
   ]
  },
  {
   "cell_type": "markdown",
   "metadata": {},
   "source": [
    "![image.png](data:image/png;base64,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)"
   ]
  },
  {
   "cell_type": "markdown",
   "metadata": {},
   "source": [
    "以下先建立CNN model還有一個LSTM model。\n",
    "\n",
    "這邊使用客制化layer來做，不然不能將CNN model update當作forward的一環(gradient傳不回)。\n",
    "\n",
    "詳見檔案: def_model.py\n",
    "\n",
    "GOOGLE TRANSLATE SONUCU: \n",
    "The following first establishes the CNN model and an LSTM model.\n",
    "\n",
    "A custom layer is used here, otherwise the CNN model update cannot be used as a part of the forward (the gradient cannot be sent back).\n",
    "\n",
    "See the file for details: def_model.py\n",
    "\n",
    "\n",
    "CHATGPT :\n",
    "\n",
    "Bu kod satırları, CNN ve LSTM modellerinin tanımlanması için kullanılmaktadır.\n",
    "\n",
    "İlk olarak, N_FILTER ve CHS değişkenleri, CNN ve LSTM modellerinde kullanılacak olan filtre sayısı ve gizli hücre sayısını belirtmektedir.\n",
    "\n",
    "Daha sonra, def_model.cnn_model() fonksiyonu kullanılarak, CNN modeli tanımlanmaktadır. Bu fonksiyon, way ve N_FILTER değişkenleri ile birlikte kullanılarak CNN modelinin oluşturulmasını sağlamaktadır. Bu model, Conv2D katmanlarından oluşmakta ve verilen N_FILTER sayısına göre filtreler kullanmaktadır.\n",
    "\n",
    "Ardından, def_model.LSTM_model() fonksiyonu kullanılarak, LSTM modeli tanımlanmaktadır. Bu fonksiyon, CHS değişkeni ile birlikte kullanılarak LSTM modelinin oluşturulmasını sağlamaktadır. LSTM modeli, önceki zaman adımlarından gelen gizli hücreler kullanılarak, sonraki bir zaman adımındaki hedef çıktıyı tahmin etmektedir.\n",
    "\n",
    "cnn ve lstm değişkenleri, sırasıyla CNN ve LSTM modellerinin kendisini içermektedir. Bu modeller daha sonra, birleştirilerek ortak bir çıkış katmanı kullanılarak tam bir model oluşturulacaktır.\n",
    "\n",
    "Özetle, bu kod satırları, CNN ve LSTM modellerinin tanımlanması için kullanılmaktadır ve daha sonra bu modellerin birleştirilmesi ile tam bir model oluşturulacaktır.\n",
    "\n",
    "CHATGPT 2:\n",
    "Yukarıdaki kod, def_model adlı python dosyasından cnn_model ve LSTM_model adlı iki sınıfı içeri aktarır.\n",
    "\n",
    "Bunu yaparak cnn_model adlı sınıftan bir örnek oluşturur. Bu örneğin inşa edilmesi sırasında N_FILTER ve CHS değişkenleri kullanılır. way değişkeni de cnn_model'in inşa edilmesi için gereklidir.\n",
    "\n",
    "LSTM_model sınıfından da bir örnek oluşturulur ve inşa edilmesi için CHS kullanılır."
   ]
  },
  {
   "cell_type": "code",
   "execution_count": 5,
   "metadata": {},
   "outputs": [],
   "source": [
    "N_FILTER=32\n",
    "CHS=32\n",
    "cnn=def_model.cnn_model(way,N_FILTER)\n",
    "lstm=def_model.LSTM_model(CHS)"
   ]
  },
  {
   "cell_type": "markdown",
   "metadata": {},
   "source": [
    "看一下模型，我們這邊使用Xavior initialization，可以看到weight value的amplitude逐層有變小\n",
    "\n",
    "這邊因為跑LSTM update會很慢，所以有稍微調整模型架構，使用1x1 conv來降低參數使用量。\n",
    "\n",
    "最後大概參數是11k個\n",
    "\n",
    "GOOGLE TRANSLATE SONUCU: \n",
    "Look at the model, we use Xavior initialization here, you can see that the amplitude of the weight value becomes smaller layer by layer\n",
    "\n",
    "Here, because running LSTM update will be very slow, the model structure is slightly adjusted, and 1x1 conv is used to reduce the parameter usage.\n",
    "\n",
    "The final parameter is about 11k\n",
    "\n",
    "\n",
    "ChatGpt:\n",
    "\n",
    "Bu kod satırları, CNN modelinin şeklini ve ağırlıklarının histogramını görselleştirmek için kullanılmaktadır.\n",
    "\n",
    "İlk olarak, cnn.print_shape() fonksiyonu kullanılarak, CNN modelinin şekli ekrana yazdırılır. Bu fonksiyon, CNN modelinin her katmanının şeklini ve boyutunu ekrana yazdırmaktadır.\n",
    "\n",
    "Daha sonra, for döngüsü kullanılarak, CNN modelinin her bir katmanının ağırlıklarının histogramı çizdirilmektedir. ii değişkeni, döngü boyunca sırayla CNN katmanlarını temsil etmektedir. Her bir katmanın ağırlıkları, ii.w ile erişilebilen bir özellik olarak model içinde yer almaktadır. np.reshape() fonksiyonu kullanılarak, ağırlıkların boyutu yeniden şekillendirilmekte ve plt.hist() fonksiyonu kullanılarak, ağırlıkların histogramı çizdirilmektedir.\n",
    "\n",
    "Son olarak, plt.title() ve plt.show() fonksiyonları kullanılarak, histogramların başlığı belirlenmekte ve ekranda gösterilmektedir.\n",
    "\n",
    "Özetle, bu kod satırları, CNN modelinin şeklini ve ağırlıklarının histogramını görselleştirmek için kullanılmaktadır."
   ]
  },
  {
   "cell_type": "code",
   "execution_count": 6,
   "metadata": {},
   "outputs": [
    {
     "name": "stdout",
     "output_type": "stream",
     "text": [
      "layer 0: w:(3, 3, 1, 32) + b: (32,) = 320\n",
      "layer 1: w:(1, 1, 32, 16) + b: (16,) = 528\n",
      "layer 2: w:(3, 3, 16, 32) + b: (32,) = 4640\n",
      "layer 3: w:(1, 1, 32, 16) + b: (16,) = 528\n",
      "layer 4: w:(3, 3, 16, 32) + b: (32,) = 4640\n",
      "layer 5: w:(1, 1, 32, 16) + b: (16,) = 528\n",
      "layer 6: w:(16, 10) + b: (10,) = 170\n",
      "totla 11354 parameters\n"
     ]
    },
    {
     "data": {
      "image/png": "[encoded data removed]",
      "text/plain": [
       "<Figure size 640x480 with 1 Axes>"
      ]
     },
     "metadata": {},
     "output_type": "display_data"
    }
   ],
   "source": [
    "cnn.print_shape()\n",
    "for ii in [cnn.cnn1,cnn.cnn1_1,cnn.cnn2,cnn.cnn2_1,cnn.cnn3,cnn.cnn3_1,cnn.dense]:\n",
    "    plt.hist(np.reshape(ii.w.numpy(),-1))\n",
    "plt.title(\"weights\")\n",
    "plt.show()"
   ]
  },
  {
   "cell_type": "markdown",
   "metadata": {},
   "source": [
    "接下定義optimizer for RNN (RNN還是要有pre-defined optimizer去更新的)\n",
    "\n",
    "並且這邊也先定義使用categorical cross entropy當loss，以及定義計算accuracy的function。\n",
    "\n",
    "GOOGLE TRANSLATE SONUCU: \n",
    "Next define the optimizer for RNN (RNN still needs a pre-defined optimizer to update)\n",
    "\n",
    "And here also first define the use of categorical cross entropy as loss, and define the function of calculating accuracy.\n",
    "\n",
    "not: lr=learning rate \n",
    "\n",
    "ChatGPT:\n",
    "\n",
    "Bu kod satırları, Adam optimizer kullanarak LSTM modelinin öğrenme oranını ayarlamak, CNN modelinin kaybı ve doğruluğunu hesaplamak için kullanılacak kayıp ve doğruluk fonksiyonlarını tanımlamak için kullanılmaktadır.\n",
    "\n",
    "İlk olarak, lr değişkeni 0.01 olarak tanımlanmış ve bu, Adam optimizer için öğrenme oranını belirlemektedir.\n",
    "\n",
    "Daha sonra, keras.optimizers.Adam() fonksiyonu kullanılarak, Adam optimizer nesnesi opt_lstm oluşturulmaktadır. Bu nesne, LSTM modelinin eğitiminde kullanılacaktır.\n",
    "\n",
    "Ardından, keras.losses.categorical_crossentropy fonksiyonu kullanılarak, CNN modelinin kaybını hesaplamak için cnn_loss_fn fonksiyonu tanımlanmaktadır. Bu kayıp fonksiyonu, çok sınıflı sınıflandırma problemleri için kullanılan bir kayıp fonksiyonudur.\n",
    "\n",
    "Son olarak, keras.metrics.categorical_accuracy fonksiyonu kullanılarak, CNN modelinin doğruluğunu hesaplamak için acc_fn fonksiyonu tanımlanmaktadır. Bu doğruluk fonksiyonu, çok sınıflı sınıflandırma problemleri için kullanılan bir doğruluk fonksiyonudur.\n",
    "\n",
    "Özetle, bu kod satırları, LSTM modelinin eğitiminde kullanılacak olan Adam optimizer nesnesini oluşturmak ve CNN modelinin kaybını ve doğruluğunu hesaplamak için kullanılacak fonksiyonları tanımlamak için kullanılmaktadır.\n"
   ]
  },
  {
   "cell_type": "code",
   "execution_count": 7,
   "metadata": {},
   "outputs": [
    {
     "name": "stderr",
     "output_type": "stream",
     "text": [
      "WARNING:absl:`lr` is deprecated in Keras optimizer, please use `learning_rate` or use the legacy optimizer, e.g.,tf.keras.optimizers.legacy.Adam.\n"
     ]
    }
   ],
   "source": [
    "lr=0.01\n",
    "\n",
    "opt_lstm=keras.optimizers.Adam(lr=lr)\n",
    "cnn_loss_fn=keras.losses.categorical_crossentropy\n",
    "acc_fn = keras.metrics.categorical_accuracy"
   ]
  },
  {
   "cell_type": "markdown",
   "metadata": {},
   "source": [
    "### 將RNN狀態初始化\n",
    "\n",
    "定義一個特別的參數將cnn的weight全部照順序壓成一維向量，好丟進LSTM。\n",
    "\n",
    "另外rnn的state也需要初始化，丟給他一個全是1的initial state\n",
    "\n",
    "GOOGLE TRANSLATE SONUCU: \n",
    "### Initialize the RNN state\n",
    "\n",
    "Define a special parameter to compress all the weights of cnn into one-dimensional vectors in order, so that they can be thrown into LSTM.\n",
    "\n",
    "In addition, the state of rnn also needs to be initialized, throwing him an initial state full of 1\n",
    "\n",
    "\n",
    "ChatGpt:\n",
    "\n",
    "Bu kod satırları, modelin ağırlıklarını birleştirerek ve bu birleştirilmiş tensörleri düzleştirerek başlangıçta bir h matrisi oluşturmak için kullanılmaktadır.\n",
    "\n",
    "def flat_tensors(mdl) fonksiyonu, girdi olarak bir model alır ve modeldeki tüm eğitilebilir ağırlıkları birleştirerek düzleştirir. Burada, mdl değişkeni olarak CNN modeli kullanılmaktadır. Tüm ağırlıklar tf.concat() fonksiyonu kullanılarak birleştirilmekte ve daha sonra tf.reshape() fonksiyonu kullanılarak birleştirilmiş ağırlıkların boyutu yeniden şekillendirilmektedir.\n",
    "\n",
    "cnn_param_num değişkeni, CNN modelinin eğitilebilir ağırlıklarının sayısını ifade etmektedir. Bu sayı, sum([np.prod(ww.shape) for ww in cnn.trainable_weights()]) satırıyla hesaplanmaktadır.\n",
    "\n",
    "best_loss değişkeni, başlangıçta sonsuz olarak atanmıştır ve ileride kayıp fonksiyonunun en iyi değerini tutmak için kullanılacaktır.\n",
    "\n",
    "flt_grads değişkeni, önceden birleştirilmiş ve düzleştirilmiş CNN modelinin eğitilebilir ağırlıklarını içermektedir. Bu değişken, ileride gradyanları hesaplamak için kullanılacaktır.\n",
    "\n",
    "h matrisi, başlangıçta 2x2 boyutunda ve 4 adet 1 içeren bir matristir. Bu matris, LSTM modelinde kullanılacak olan gizli hücreleri başlangıçta tanımlamak için kullanılacaktır.\n",
    "\n",
    "Özetle, bu kod satırları, modelin ağırlıklarını birleştirerek ve bu birleştirilmiş tensörleri düzleştirerek başlangıçta bir h matrisi oluşturmak için kullanılmaktadır. Bu işlemler, ileride gradyanları hesaplamak için kullanılacaktır."
   ]
  },
  {
   "cell_type": "code",
   "execution_count": 8,
   "metadata": {},
   "outputs": [],
   "source": [
    "def flat_tensors(mdl):\n",
    "    tensors=tf.concat([tf.reshape(ww,[-1]) for ww in mdl],axis=0)\n",
    "    return tf.reshape(tensors,(len(tensors),1,1))\n",
    "\n",
    "cnn_param_num=sum([np.prod(ww.shape) for ww in cnn.trainable_weights()])\n",
    "best_loss=np.Inf\n",
    "flt_grads=flat_tensors(cnn.trainable_weights()).numpy().copy()\n",
    "h=[[tf.ones((cnn_param_num,CHS)),tf.ones((cnn_param_num,CHS))],[tf.ones((cnn_param_num,CHS)),tf.ones((cnn_param_num,CHS))]]"
   ]
  },
  {
   "cell_type": "markdown",
   "metadata": {},
   "source": [
    "自己組件的model沒有compiler,所以跑一次data同時compile\n",
    "\n",
    "GOOGLE TRANSLATE SONUCU: \n",
    "The model of its own component does not have a compiler, so run data and compile at the same time\n",
    "\n",
    "\n",
    "ChatGpt:\n",
    "\n",
    "Bu kod satırı, lstm modelinin forward() yöntemini kullanarak, flt_grads tensörü ve önceki durumunu (h) kullanarak yeni bir durum ve bir güncelleme hesaplamak için kullanılmaktadır.\n",
    "\n",
    "lstm modeli, önceki zaman adımlarından gelen gizli hücreler kullanılarak, sonraki bir zaman adımındaki hedef çıktıyı tahmin etmektedir. lstm.forward() yöntemi, bu tahmini hesaplamak için kullanılmaktadır.\n",
    "\n",
    "flt_grads tensörü, önceden birleştirilmiş ve düzleştirilmiş CNN modelinin eğitilebilir ağırlıklarını içermektedir. Bu tensör, LSTM modelindeki girdi olarak kullanılacaktır.\n",
    "\n",
    "state=h değişkeni, başlangıçta oluşturulan gizli hücre matrisini belirtmektedir. Bu matris, LSTM modelinin önceki durumunu temsil etmektedir.\n",
    "\n",
    "new_update değişkeni, güncellenmiş ağırlık gradyanlarını içermektedir. Bu gradyanlar, ileride modelin eğitimi sırasında kullanılacaktır.\n",
    "\n",
    "new_state değişkeni, yeni bir gizli hücre matrisini temsil etmektedir. Bu matris, LSTM modelinin son durumunu temsil etmektedir.\n",
    "\n",
    "Özetle, bu kod satırı, lstm modelinin forward() yöntemini kullanarak, flt_grads tensörü ve önceki durumunu (h) kullanarak yeni bir durum ve bir güncelleme hesaplamak için kullanılmaktadır."
   ]
  },
  {
   "cell_type": "code",
   "execution_count": 9,
   "metadata": {},
   "outputs": [
    {
     "name": "stderr",
     "output_type": "stream",
     "text": [
      "C:\\Users\\User\\anaconda3\\envs\\Python38\\lib\\site-packages\\keras\\initializers\\initializers.py:120: UserWarning: The initializer LecunUniform is unseeded and being called multiple times, which will return identical values each time (even if the initializer is unseeded). Please update your code to provide a seed to the initializer, or avoid using the same initalizer instance more than once.\n",
      "  warnings.warn(\n"
     ]
    }
   ],
   "source": [
    "new_update,new_state=lstm.forward(flt_grads,state=h)"
   ]
  },
  {
   "cell_type": "markdown",
   "metadata": {},
   "source": [
    "# 模型訓練與驗證\n",
    "依照上述方式開始訓練模型並驗證\n",
    "\n",
    "GOOGLE TRANSLATE SONUCU: \n",
    "# Model training and validation\n",
    "Start training the model and verify it as above\n",
    "\n",
    "\n",
    "ChatGpt:\n",
    "\n",
    "Bu kod bloğu, LSTM-CNN modelinin eğitimini gerçekleştirmektedir.\n",
    "\n",
    "İlk olarak, MAX_EPOCHS değişkeni, eğitim döngüsünün kaç kez çalışacağını belirtmektedir. BATCH_SIZE değişkeni ise her bir eğitim döngüsünde kullanılacak örnek sayısını belirtmektedir.\n",
    "\n",
    "Eğitim döngüsü başlatılmadan önce, best_loss değişkeni sonsuz olarak tanımlanır. Bu değişken, eğitim sırasında en iyi kayıp değerini tutacaktır.\n",
    "\n",
    "Eğitim döngüsü içerisinde, önce eğitim verileri kullanılarak train_sess adlı bir ilerleme çubuğu oluşturulur. Ardından, her bir örnek için aşağıdaki işlemler yapılır:\n",
    "\n",
    "1. tf.GradientTape() içerisinde, önceki gradyanların kullanılması için persistent=True olarak ayarlanır.\n",
    "2. lstm.forward() yöntemi kullanılarak, önceki gradyanlar (flt_grads) ve gizli hücrelerin önceki durumu (h) kullanılarak yeni bir durum ve bir güncelleme hesaplanır.\n",
    "3. cnn.assign_update() yöntemi kullanılarak, önceki gradyanlar (flt_grads) ve hesaplanan güncelleme (new_update) kullanılarak CNN modelinin ağırlıkları güncellenir.\n",
    "4. CNN modeli kullanılarak, veriler için tahminler yapılır ve cnn_loss_fn kayıp fonksiyonu kullanılarak kayıp değeri hesaplanır.\n",
    "5. Hesaplanan kayıp değeri kullanılarak, gradyanlar (grads_cnn) hesaplanır.\n",
    "6. Yeni gradyanların (new_update) hesaplanması için, tape.gradient() fonksiyonu kullanılır ve ayrıca gradyanlar (grads) ve yeni gizli hücre durumu (new_state) kaydedilir.\n",
    "7. Optimize edicinin (opt_lstm) apply_gradients() yöntemi kullanılarak, gradyanlar (grads) kullanılarak LSTM modelinin ağırlıkları güncellenir.\n",
    "8. Doğruluk (acc) hesaplanır ve train_acc listesine eklenir.\n",
    "9. train_sess.set_postfix() yöntemi kullanılarak, eğitim ilerlemesi ilerleme çubuğu üzerinde güncellenir.\n",
    "\n",
    "Daha sonra, her bir doğrulama örneği için aşağıdaki işlemler yapılır:\n",
    "\n",
    "1. CNN modeli kullanılarak, doğrulama verileri için tahminler yapılır ve cnn_loss_fn kayıp fonksiyonu kullanılarak kayıp değeri hesaplanır.\n",
    "2. Doğruluk (acc) hesaplanır ve val_acc listesine eklenir.\n",
    "3. Hesaplanan kayıp değeri, val_loss listesine eklenir.\n",
    "\n",
    "Eğitim döngüsü tamamlandıktan sonra, best_loss değişkeni, doğrulama kayıp değerlerinin ortalamasıyla karşılaştırılır. Eğer kayıp değeri daha kötüyse (best_loss < np.mean(val_loss)), eğitim döngüsü sonlandırılır. \n",
    "Aksi takdirde, en iyi kayıp değeri güncellenir ve eğitim döngüsü devam eder.\n",
    "\n",
    "Bu kod bloğu, LSTM-CNN modelinin eğitimini gerçekleştirir. Her bir örnek için gradyanların hesaplanması ve LSTM ve CNN modellerinin güncellenmesi gibi çeşitli işlemleri içerir. Ayrıca, eğitim ilerlemesi de tqdm \n",
    "kütüphanesi kullanılarak görselleştirilmektedir.\n",
    "\n",
    "ChatGpt2:\n",
    "\n",
    "Bu kod, bir eğitim döngüsü oluşturuyor. Döngü, MAX_EPOCHS sayısı kadar tekrarlanır. Her bir döngüde, eğitim ve doğrulama verileri için ayrı nesneler oluşturulur: gen_train ve gen_val.\n",
    "\n",
    "Eğitim döngüsü, her bir batch verisinde train_sess kullanılarak gerçekleştirilir. Her bir batch, data_gen tarafından oluşturulmuştur ve eğitim verilerini içerir. Her bir batch verisi, CNN tarafından tahmin edilen sonuçlarla bir kayıp fonksiyonu aracılığıyla karşılaştırılır. Sonrasında, kaybın gradient'ı hesaplanır. Bu gradient'lar, CNN'nin öğrenme oranının ayarlandığı ve CNN'nin ağırlıklarının güncellendiği bir geri yayılım aşamasına girer.\n",
    "\n",
    "LSTM, her batch verisi için önceki batch verisinin gradient'ını alır ve bu gradient'ı kullanarak güncellenmiş ağırlıklar üretir. Bu güncellenmiş ağırlıklar, CNN tarafından kullanılmak üzere kaydedilir.\n",
    "\n",
    "Eğitim döngüsünün sonunda, doğrulama verileri için ayrı bir döngü yapılır. Doğrulama döngüsü, CNN'nin doğruluğunu hesaplar ve doğrulama verilerine uygulanan kaybın ortalamasını hesaplar. Ayrıca, en iyi kaybı tutar ve bir erken durdurma algoritması kullanarak aşırı uydurma olasılığını azaltır."
   ]
  },
  {
   "cell_type": "code",
   "execution_count": 10,
   "metadata": {},
   "outputs": [
    {
     "name": "stderr",
     "output_type": "stream",
     "text": [
      " 95%|█████████▍| 355/375 [03:04<00:08,  2.22it/s, CNN loss=0.404, acc=0.785]"
     ]
    }
   ],
   "source": [
    "# flt_grads=tf.Variable(flat_tensors(cnn.trainable_weights()))\n",
    "# h=[[tf.ones((cnn_param_num,CHS)),tf.ones((cnn_param_num,CHS))],[tf.ones((cnn_param_num,CHS)),tf.ones((cnn_param_num,CHS))]]\n",
    "\n",
    "best_loss=np.Inf\n",
    "\n",
    "for epoch in range(MAX_EPOCHS):\n",
    "    train_sess=tqdm.tqdm(gen_train)\n",
    "    train_acc=[]    \n",
    "    '''每個batch的訓練''' '''training for each batch'''\n",
    "    for data,label_1_hot in train_sess:\n",
    "        '''紀錄gradient'''\n",
    "        '''record gradient'''\n",
    "        # 記得要開persistant, 因為會有兩次的tape.gradient，如果不開只能用一次\n",
    "        # Remember to enable persistent, because there will be two tape.gradients, if you don't enable it, you can only use it once\n",
    "        with tf.GradientTape(persistent=True) as tape:\n",
    "            '''將上一個batch的gradient丟進LSTM，產出更新參數'''  \n",
    "            '''Throw the gradient of the previous batch into LSTM, and generate update parameters'''\n",
    "            new_update,new_state=lstm.forward(flt_grads,state=h)\n",
    "            new_update=tf.expand_dims(new_update,-1)\n",
    "\n",
    "            '''將更新參數丟給cnn做update'''\n",
    "            '''Throw the update parameters to cnn for update'''\n",
    "            cnn.assign_update(new_update*0.01)\n",
    "\n",
    "            '''使用cnn預測資料、計算loss'''\n",
    "            '''Use cnn to predict data and calculate loss'''\n",
    "            logits=cnn(data)\n",
    "            loss_cnn=cnn_loss_fn(tf.Variable(label_1_hot), logits)+tf.sqrt(tf.reduce_mean(new_update**2))*0.1\n",
    "        '''計算loss造成cnn的gradient'''\n",
    "        '''Calculation loss causes the gradient of cnn'''\n",
    "        grads_cnn=tape.gradient(loss_cnn,cnn.trainable_weights())\n",
    "        \n",
    "        '''計算CNN的gradient造成lstm的gradient，也記錄這次LSTM的state以及CNN的gradient，供下個batch使用'''\n",
    "        '''Calculate the gradient of CNN to cause the gradient of lstm, and also record the state of LSTM and the gradient of CNN for the next batch'''\n",
    "        grads=tape.gradient(new_update,lstm.trainable_weights,output_gradients=-flat_tensors(grads_cnn))\n",
    "        h=new_state\n",
    "        flt_grads=flat_tensors(grads_cnn)\n",
    "        \n",
    "        '''對LSTM進行更新，並記錄訓練效果'''\n",
    "        '''Update the LSTM and record the training effect'''\n",
    "        opt_lstm.apply_gradients(zip(grads, lstm.trainable_weights))\n",
    "        acc=acc_fn(label_1_hot,logits).numpy().mean()\n",
    "        train_acc.append(acc)\n",
    "        train_sess.set_postfix({\"CNN loss\": loss_cnn.numpy().mean(),\"acc\":np.mean(train_acc)})\n",
    "    \n",
    "    '''每個batch的驗證'''\n",
    "    '''Verification of each batch'''\n",
    "    val_acc=[]\n",
    "    val_loss=[]\n",
    "    for data,label_1_hot in gen_val:\n",
    "        '''將資料丟入CNN，算loss'''\n",
    "        '''Throw data into CNN, count as loss'''\n",
    "        logits=cnn(data)\n",
    "        loss_cnn=cnn_loss_fn(label_1_hot, logits).numpy()\n",
    "        \n",
    "        '''記錄驗證資料'''\n",
    "        '''Record verification information'''\n",
    "        acc=acc_fn(label_1_hot,logits).numpy().mean()\n",
    "        val_loss.append(loss_cnn)\n",
    "        val_acc.append(acc)\n",
    "    print(f\"CNN val: loss: {np.mean(val_loss):.08f},acc: {np.mean(val_acc):.02f},lr: {lr}\")\n",
    "    \n",
    "    '''Early Stop'''\n",
    "    if best_loss<np.mean(val_loss):\n",
    "        print(\"Early Stop\")\n",
    "        break\n",
    "    else:\n",
    "        best_loss=np.mean(val_loss)\n"
   ]
  },
  {
   "cell_type": "markdown",
   "metadata": {},
   "source": [
    "# 細節說明\n",
    "\n",
    "1. 把flt_grad也就是攤成1維的gradient 資料拿起來看，會像下面這樣，他也就是一個tf.Variable，可供我們操作\n",
    "GOOGLE TRANSLATE SONUCU: \n",
    "# Details\n",
    "\n",
    "1. Take flt_grad, that is, the 1-dimensional gradient data, and it will look like the following. It is also a tf.Variable, which can be operated by us\n",
    "\n",
    "ChatGpt:\n",
    "\n",
    "flt_grads, CNN modelinin eğitimi sırasında her bir ağırlık için hesaplanan gradyanların düzleştirilmiş haliyle oluşturulmuş bir tensördür. flat_tensors() fonksiyonu, modelin tüm eğitilebilir ağırlıklarını birleştirerek, gradyanların düzleştirilmiş halini elde etmek için kullanılmaktadır. Bu gradyanlar, LSTM modelinde kullanılmak üzere saklanmaktadır. flt_grads değişkeni, son hesaplanan gradyanların kaydedildiği bir tensördür ve her bir örnek için yeniden hesaplanmaktadır."
   ]
  },
  {
   "cell_type": "code",
   "execution_count": 11,
   "metadata": {},
   "outputs": [],
   "source": [
    "flt_grads"
   ]
  },
  {
   "cell_type": "markdown",
   "metadata": {},
   "source": [
    "2. 中間CNN更新部分如下，要用assign_sub來對參數做減法，SGD是減去$\\lambda* gradient$，在這個LSTM optimizer是減去LSTM輸出值\n",
    "GOOGLE TRANSLATE SONUCU: \n",
    "2. The intermediate CNN update part is as follows, use assign_sub to subtract the parameters, SGD is to subtract $\\lambda* gradient$, in this LSTM optimizer is to subtract the LSTM output value\n",
    "\n",
    "ChatGpt:\n",
    "Bu kod bir fonksiyondur ve tensors ve model adında iki girdi alır. model önceden tanımlanmış bir CNN modelidir. tensors, bir gradyan vektörüdür. Fonksiyon, bu gradyan vektörünü kullanarak CNN modelinin ağırlıklarını günceller.\n",
    "\n",
    "Öncelikle, her bir ağırlık ve bias tensörünün uzunluğunu hesaplamak için bir döngü oluşturulur. Daha sonra, her bir tensörün değeri, tf.reshape kullanılarak tensors vektöründen çıkarılır. Bu şekilde, tensors gradyan vektörü, her bir tensörün şekline göre parçalara ayrılır ve her ağırlık veya bias tensörünün ilgili bileşeni ile eşlenir. Son olarak, ağırlıklar ve biaslar modelin ilgili tensörlerine atanır ve modelin güncellenmiş bir versiyonu döndürülür."
   ]
  },
  {
   "cell_type": "code",
   "execution_count": 12,
   "metadata": {},
   "outputs": [],
   "source": [
    "def assign_update(tensors,model):\n",
    "    nn=0\n",
    "    for ww in [model.cnn1,model.cnn1_1,model.cnn2,model.cnn2_1,model.cnn3,model.cnn3_1,model.dense]:\n",
    "        flt_len=np.prod(ww.w.shape)\n",
    "        ww.w.assign_sub(tf.reshape(tensors[nn:nn+flt_len],ww.w.shape))\n",
    "        nn+=flt_len\n",
    "\n",
    "        flt_len=np.prod(ww.b.shape)\n",
    "        ww.b.assign_sub(tf.reshape(tensors[nn:nn+flt_len],ww.b.shape))\n",
    "        nn+=flt_len"
   ]
  },
  {
   "cell_type": "markdown",
   "metadata": {},
   "source": [
    "可以看見，這個LSTM輸出的new_update 的rank跟上面flt_grads不一樣，所以剛剛有做調整\n",
    "GOOGLE TRANSLATE SONUCU: \n",
    "It can be seen that the rank of new_update output by this LSTM is different from the above flt_grads, so it has just been adjusted\n",
    "\n",
    "ChatGpt:\n",
    "\n",
    "new_update değişkeni, her bir batch'in sonunda elde edilen gradient değerlerinin LSTM tarafından işlenerek oluşturulan yeni güncelleme parametrelerini ifade ediyor. Bu güncelleme parametreleri, bir sonraki batch'in eğitiminde kullanılacak. Bu sayede, gradient descent işlemi daha hızlı bir şekilde sonuçlanabilir ve daha az iterasyonla daha iyi sonuçlar elde edilebilir."
   ]
  },
  {
   "cell_type": "code",
   "execution_count": 13,
   "metadata": {},
   "outputs": [],
   "source": [
    "new_update"
   ]
  },
  {
   "cell_type": "markdown",
   "metadata": {},
   "source": [
    "3. 這個專案其中一件作業是要將loss對CNN造成的gradient傳回LSTM的output讓LSTM能夠算gradient，但cnn weight的變化造成的gradient不能直接back propagate給lstm\n",
    "GOOGLE TRANSLATE SONUCU: \n",
    "3. One of the tasks of this project is to transfer the gradient caused by loss to CNN back to the output of LSTM so that LSTM can be used as a gradient, but the gradient caused by the change of cnn weight cannot be directly propagated back to lstm\n",
    "\n",
    "ChatGpt:\n",
    "\n",
    "Bu kod, LSTM tarafından hesaplanan yeni güncelleme parametrelerini alır ve CNN ağı tarafından kullanılır. CNN'deki her bir ağırlık katmanı için, LSTM'den gelen güncelleme vektörü ile ağırlıkların güncellenmesi yapılır. Daha sonra, CNN ağı için bir gradyan hesaplaması yapılır ve son olarak bu gradyanlar, LSTM ağı için hesaplanan yeni gradyanlarla birleştirilir.\n",
    "\n",
    "İlk olarak, tf.GradientTape() ile bir tape oluşturulur ve lstm.forward(flt_grads,state=h) işlemi yapılır. Bu işlem, LSTM modelindeki bir önceki parti için hesaplanan gradyanların yeni bir güncelleme vektörüne dönüştürülmesini sağlar. Bu güncelleme vektörü, new_update olarak adlandırılır ve tf.Variable() ile bir değişkene atanır.\n",
    "\n",
    "Daha sonra, her bir ağırlık katmanı için güncelleme vektörü ile ağırlıkların güncellenmesi yapılır. Bu, cnn.cnn1, cnn.cnn1_1, cnn.cnn2, cnn.cnn2_1, cnn.cnn3, cnn.cnn3_1, cnn.dense adlı CNN ağındaki ağırlık katmanlarını döngüye alarak yapılır. np.prod() fonksiyonu ile ağırlık katmanının şekli çarpılarak bir boyut oluşturulur ve bu boyut, tf.reshape() ile güncelleme vektörünün boyutuna eşitlenir. Güncellenmiş ağırlıklar, ww.w.assign_sub() fonksiyonu ile orijinal ağırlıktan güncelleme vektörü çıkartılarak hesaplanır. Benzer bir şekilde, bias'lar için de aynı işlem yapılır.\n",
    "\n",
    "Son olarak, CNN ağı için bir gradyan hesaplaması yapılır. tf.GradientTape() ile bir tape oluşturulur ve gradyanlar, tape.gradient() fonksiyonu ile hesaplanır. Daha sonra, LSTM tarafından hesaplanan gradyanlarla birleştirilir. Bu, tape.gradient(cnn.cnn1.w,lstm.trainable_weights) satırı ile yapılır. cnn.cnn1.w ile CNN ağındaki bir ağırlık katmanından gradyanlar alınır ve lstm.trainable_weights ile LSTM ağındaki tüm ağırlık katmanları için hesaplanan gradyanlar birleştirilir.\n"
   ]
  },
  {
   "cell_type": "code",
   "execution_count": 14,
   "metadata": {},
   "outputs": [],
   "source": [
    "nn=0\n",
    "with tf.GradientTape() as tape:\n",
    "    new_update,new_state=lstm.forward(flt_grads,state=h)\n",
    "    new_update=tf.Variable(new_update)\n",
    "    nn=0\n",
    "    for ww in [cnn.cnn1,cnn.cnn1_1,cnn.cnn2,cnn.cnn2_1,cnn.cnn3,cnn.cnn3_1,cnn.dense]:\n",
    "        flt_len=np.prod(ww.w.shape)\n",
    "        ww.w=ww.w.assign_sub(tf.reshape(new_update[nn:nn+flt_len],ww.w.shape))\n",
    "        nn+=flt_len\n",
    "\n",
    "        flt_len=np.prod(ww.b.shape)\n",
    "        ww.b=ww.b.assign_sub(tf.reshape(new_update[nn:nn+flt_len],ww.b.shape))\n",
    "        nn+=flt_len\n",
    "        \n",
    "grad=tape.gradient(cnn.cnn1.w,lstm.trainable_weights)"
   ]
  },
  {
   "cell_type": "code",
   "execution_count": 15,
   "metadata": {},
   "outputs": [],
   "source": [
    "grad"
   ]
  },
  {
   "cell_type": "markdown",
   "metadata": {},
   "source": [
    "可以看到，這樣將gradient更新值直接用做lstm的loss，會算不出gradient\n",
    "GOOGLE TRANSLATE SONUCU: \n",
    "It can be seen that if the gradient update value is directly used as the loss of lstm, the gradient will not be calculated."
   ]
  },
  {
   "cell_type": "code",
   "execution_count": 16,
   "metadata": {},
   "outputs": [],
   "source": [
    " with tf.GradientTape() as tape:\n",
    "    new_update,new_state=lstm.forward(flt_grads,state=h)\n",
    "    cnn.assign_update(new_update)\n",
    "    logits=cnn(data)\n",
    "    loss1=cnn_loss_fn(label_1_hot, logits)\n",
    "grads=tape.gradient(loss1,lstm.trainable_weights)"
   ]
  },
  {
   "cell_type": "code",
   "execution_count": 17,
   "metadata": {},
   "outputs": [],
   "source": [
    "grads"
   ]
  },
  {
   "cell_type": "markdown",
   "metadata": {},
   "source": [
    "若直接以cnn的loss去回傳給lstm算gradient更是算不出來\n",
    "GOOGLE TRANSLATE SONUCU: \n",
    "If the loss of cnn is directly passed back to lstm to calculate the gradient, it will not be calculated."
   ]
  },
  {
   "cell_type": "markdown",
   "metadata": {},
   "source": [
    "最後使用上面用的persistent=True加上output_gradients的方式做back propagation\n",
    "GOOGLE TRANSLATE SONUCU: \n",
    "Finally, use the above method of persistent=True plus output_gradients to do back propagation"
   ]
  },
  {
   "cell_type": "markdown",
   "metadata": {},
   "source": [
    "# Reference\n",
    "* [Andrychowicz, M., Denil, M., Gomez, S., Hoffman, M. W., Pfau, D., Schaul, T., ... & De Freitas, N. (2016). Learning to learn by gradient descent by gradient descent. arXiv preprint arXiv:1606.04474.](https://arxiv.org/abs/1606.04474)\n",
    "* \n",
    "(官方網站的code連結是誤值，目前無其他github網頁做python的版本)\n",
    "GOOGLE TRANSLATE SONUCU: \n",
    "(The code link on the official website is an error value, there is currently no other github page for the python version)"
   ]
  },
  {
   "cell_type": "code",
   "execution_count": null,
   "metadata": {},
   "outputs": [],
   "source": []
  }
 ],
 "metadata": {
  "kernelspec": {
   "display_name": "Python 3 (ipykernel)",
   "language": "python",
   "name": "python3"
  },
  "language_info": {
   "codemirror_mode": {
    "name": "ipython",
    "version": 3
   },
   "file_extension": ".py",
   "mimetype": "text/x-python",
   "name": "python",
   "nbconvert_exporter": "python",
   "pygments_lexer": "ipython3",
   "version": "3.8.16"
  }
 },
 "nbformat": 4,
 "nbformat_minor": 4
}
